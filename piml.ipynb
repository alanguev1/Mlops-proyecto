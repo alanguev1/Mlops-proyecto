{
 "cells": [
  {
   "cell_type": "code",
   "execution_count": 1,
   "metadata": {},
   "outputs": [],
   "source": [
    "import pandas as pd\n",
    "import numpy as np\n",
    "import json\n",
    "import ast"
   ]
  },
  {
   "cell_type": "code",
   "execution_count": 3,
   "metadata": {},
   "outputs": [],
   "source": [
    "# PROCESO DE ETL\n",
    "'''Extracción\n",
    "La primera parte del proceso consiste en la extraccion de los datos desde su punto de origen, \n",
    "en nuestro caso se encuentran en un conjunto de datasets proporcionados por la empresa steam de tipo json.'''"
   ]
  },
  {
   "cell_type": "code",
   "execution_count": 4,
   "metadata": {},
   "outputs": [
    {
     "name": "stdout",
     "output_type": "stream",
     "text": [
      "<class 'pandas.core.frame.DataFrame'>\n",
      "RangeIndex: 120445 entries, 0 to 120444\n",
      "Data columns (total 13 columns):\n",
      " #   Column        Non-Null Count  Dtype \n",
      "---  ------        --------------  ----- \n",
      " 0   publisher     24083 non-null  object\n",
      " 1   genres        28852 non-null  object\n",
      " 2   app_name      32133 non-null  object\n",
      " 3   title         30085 non-null  object\n",
      " 4   url           32135 non-null  object\n",
      " 5   release_date  30068 non-null  object\n",
      " 6   tags          31972 non-null  object\n",
      " 7   reviews_url   32133 non-null  object\n",
      " 8   specs         31465 non-null  object\n",
      " 9   price         30758 non-null  object\n",
      " 10  early_access  32135 non-null  object\n",
      " 11  id            32133 non-null  object\n",
      " 12  developer     28836 non-null  object\n",
      "dtypes: object(13)\n",
      "memory usage: 11.9+ MB\n"
     ]
    }
   ],
   "source": [
    "games = 'datasets/output_steam_games.json'\n",
    "\n",
    "# Se lee de cada línea del dataset\n",
    "rows = []\n",
    "with open(games) as f:\n",
    "    for line in f.readlines():\n",
    "        data = json.loads(line)\n",
    "        rows.append(data)\n",
    "\n",
    "# Se convierte a dataframe\n",
    "games = pd.DataFrame(rows)\n",
    "games.info()"
   ]
  },
  {
   "cell_type": "code",
   "execution_count": 5,
   "metadata": {},
   "outputs": [
    {
     "data": {
      "text/html": [
       "<div>\n",
       "<style scoped>\n",
       "    .dataframe tbody tr th:only-of-type {\n",
       "        vertical-align: middle;\n",
       "    }\n",
       "\n",
       "    .dataframe tbody tr th {\n",
       "        vertical-align: top;\n",
       "    }\n",
       "\n",
       "    .dataframe thead th {\n",
       "        text-align: right;\n",
       "    }\n",
       "</style>\n",
       "<table border=\"1\" class=\"dataframe\">\n",
       "  <thead>\n",
       "    <tr style=\"text-align: right;\">\n",
       "      <th></th>\n",
       "      <th>publisher</th>\n",
       "      <th>genres</th>\n",
       "      <th>app_name</th>\n",
       "      <th>title</th>\n",
       "      <th>url</th>\n",
       "      <th>release_date</th>\n",
       "      <th>tags</th>\n",
       "      <th>reviews_url</th>\n",
       "      <th>specs</th>\n",
       "      <th>price</th>\n",
       "      <th>early_access</th>\n",
       "      <th>id</th>\n",
       "      <th>developer</th>\n",
       "    </tr>\n",
       "  </thead>\n",
       "  <tbody>\n",
       "    <tr>\n",
       "      <th>20499</th>\n",
       "      <td>NaN</td>\n",
       "      <td>NaN</td>\n",
       "      <td>NaN</td>\n",
       "      <td>NaN</td>\n",
       "      <td>NaN</td>\n",
       "      <td>NaN</td>\n",
       "      <td>NaN</td>\n",
       "      <td>NaN</td>\n",
       "      <td>NaN</td>\n",
       "      <td>NaN</td>\n",
       "      <td>NaN</td>\n",
       "      <td>NaN</td>\n",
       "      <td>NaN</td>\n",
       "    </tr>\n",
       "  </tbody>\n",
       "</table>\n",
       "</div>"
      ],
      "text/plain": [
       "      publisher genres app_name title  url release_date tags reviews_url  \\\n",
       "20499       NaN    NaN      NaN   NaN  NaN          NaN  NaN         NaN   \n",
       "\n",
       "      specs price early_access   id developer  \n",
       "20499   NaN   NaN          NaN  NaN       NaN  "
      ]
     },
     "execution_count": 5,
     "metadata": {},
     "output_type": "execute_result"
    }
   ],
   "source": [
    "games.sample()\n"
   ]
  },
  {
   "cell_type": "code",
   "execution_count": 7,
   "metadata": {},
   "outputs": [
    {
     "name": "stdout",
     "output_type": "stream",
     "text": [
      "<class 'pandas.core.frame.DataFrame'>\n",
      "RangeIndex: 25799 entries, 0 to 25798\n",
      "Data columns (total 3 columns):\n",
      " #   Column    Non-Null Count  Dtype \n",
      "---  ------    --------------  ----- \n",
      " 0   user_id   25799 non-null  object\n",
      " 1   user_url  25799 non-null  object\n",
      " 2   reviews   25799 non-null  object\n",
      "dtypes: object(3)\n",
      "memory usage: 604.8+ KB\n"
     ]
    }
   ],
   "source": [
    "reviews = 'datasets/australian_user_reviews.json'\n",
    "\n",
    "# Se lee de cada línea del dataset\n",
    "rows.clear()\n",
    "with open(reviews, encoding='utf-8') as f:\n",
    "    for line in f.readlines():\n",
    "        data = ast.literal_eval(line)\n",
    "        rows.append(data)\n",
    "\n",
    "# Se convierte a dataframe\n",
    "reviews = pd.DataFrame(rows)\n",
    "reviews.info()"
   ]
  },
  {
   "cell_type": "code",
   "execution_count": 8,
   "metadata": {},
   "outputs": [
    {
     "data": {
      "text/html": [
       "<div>\n",
       "<style scoped>\n",
       "    .dataframe tbody tr th:only-of-type {\n",
       "        vertical-align: middle;\n",
       "    }\n",
       "\n",
       "    .dataframe tbody tr th {\n",
       "        vertical-align: top;\n",
       "    }\n",
       "\n",
       "    .dataframe thead th {\n",
       "        text-align: right;\n",
       "    }\n",
       "</style>\n",
       "<table border=\"1\" class=\"dataframe\">\n",
       "  <thead>\n",
       "    <tr style=\"text-align: right;\">\n",
       "      <th></th>\n",
       "      <th>user_id</th>\n",
       "      <th>user_url</th>\n",
       "      <th>reviews</th>\n",
       "    </tr>\n",
       "  </thead>\n",
       "  <tbody>\n",
       "    <tr>\n",
       "      <th>25146</th>\n",
       "      <td>76561198107121855</td>\n",
       "      <td>http://steamcommunity.com/profiles/76561198107...</td>\n",
       "      <td>[{'funny': '', 'posted': 'Posted November 12, ...</td>\n",
       "    </tr>\n",
       "  </tbody>\n",
       "</table>\n",
       "</div>"
      ],
      "text/plain": [
       "                 user_id                                           user_url  \\\n",
       "25146  76561198107121855  http://steamcommunity.com/profiles/76561198107...   \n",
       "\n",
       "                                                 reviews  \n",
       "25146  [{'funny': '', 'posted': 'Posted November 12, ...  "
      ]
     },
     "execution_count": 8,
     "metadata": {},
     "output_type": "execute_result"
    }
   ],
   "source": [
    "reviews.sample()\n"
   ]
  },
  {
   "cell_type": "code",
   "execution_count": 10,
   "metadata": {},
   "outputs": [
    {
     "name": "stdout",
     "output_type": "stream",
     "text": [
      "<class 'pandas.core.frame.DataFrame'>\n",
      "RangeIndex: 88310 entries, 0 to 88309\n",
      "Data columns (total 5 columns):\n",
      " #   Column       Non-Null Count  Dtype \n",
      "---  ------       --------------  ----- \n",
      " 0   user_id      88310 non-null  object\n",
      " 1   items_count  88310 non-null  int64 \n",
      " 2   steam_id     88310 non-null  object\n",
      " 3   user_url     88310 non-null  object\n",
      " 4   items        88310 non-null  object\n",
      "dtypes: int64(1), object(4)\n",
      "memory usage: 3.4+ MB\n"
     ]
    }
   ],
   "source": [
    "items = 'datasets/australian_users_items.json'\n",
    "\n",
    "# Se lee de cada línea del dataset\n",
    "rows.clear()\n",
    "with open(items, encoding='utf-8') as f:\n",
    "    for line in f.readlines():\n",
    "        data = ast.literal_eval(line)\n",
    "        rows.append(data)\n",
    "\n",
    "# Se convierte a dataframe\n",
    "items = pd.DataFrame(rows)\n",
    "items.info()"
   ]
  },
  {
   "cell_type": "code",
   "execution_count": 11,
   "metadata": {},
   "outputs": [
    {
     "data": {
      "text/html": [
       "<div>\n",
       "<style scoped>\n",
       "    .dataframe tbody tr th:only-of-type {\n",
       "        vertical-align: middle;\n",
       "    }\n",
       "\n",
       "    .dataframe tbody tr th {\n",
       "        vertical-align: top;\n",
       "    }\n",
       "\n",
       "    .dataframe thead th {\n",
       "        text-align: right;\n",
       "    }\n",
       "</style>\n",
       "<table border=\"1\" class=\"dataframe\">\n",
       "  <thead>\n",
       "    <tr style=\"text-align: right;\">\n",
       "      <th></th>\n",
       "      <th>user_id</th>\n",
       "      <th>items_count</th>\n",
       "      <th>steam_id</th>\n",
       "      <th>user_url</th>\n",
       "      <th>items</th>\n",
       "    </tr>\n",
       "  </thead>\n",
       "  <tbody>\n",
       "    <tr>\n",
       "      <th>80793</th>\n",
       "      <td>76561198092233031</td>\n",
       "      <td>0</td>\n",
       "      <td>76561198092233031</td>\n",
       "      <td>http://steamcommunity.com/profiles/76561198092...</td>\n",
       "      <td>[]</td>\n",
       "    </tr>\n",
       "  </tbody>\n",
       "</table>\n",
       "</div>"
      ],
      "text/plain": [
       "                 user_id  items_count           steam_id  \\\n",
       "80793  76561198092233031            0  76561198092233031   \n",
       "\n",
       "                                                user_url items  \n",
       "80793  http://steamcommunity.com/profiles/76561198092...    []  "
      ]
     },
     "execution_count": 11,
     "metadata": {},
     "output_type": "execute_result"
    }
   ],
   "source": [
    "items.sample()\n"
   ]
  },
  {
   "cell_type": "code",
   "execution_count": 12,
   "metadata": {},
   "outputs": [
    {
     "name": "stdout",
     "output_type": "stream",
     "text": [
      "Campos vacios en games: 1168997\n",
      "Campos vacios en reviews: 0\n",
      "Campos vacios en items: 0\n"
     ]
    }
   ],
   "source": [
    "#Transform\n",
    "'''La fase de transformacion aplica una serie de reglas de negocio sobre los datos extraidos para poder \n",
    "limpiarlos y tener una buena calidad de estos al momento de cargarlos, la gravedad de estas transformaciones \n",
    "dependera de como se encuentren los datos extraidos. Segun nuestras tablas se requiere de una normalizacion \n",
    "en ellas y de algunos casting para mayor legibilidad y utilidad al momento de realizar la carga y otras operaciones.'''\n",
    "\n",
    "print(f'Campos vacios en games: {games.isna().sum().sum()}')\n",
    "print(f'Campos vacios en reviews: {reviews.isna().sum().sum()}')\n",
    "print(f'Campos vacios en items: {items.isna().sum().sum()}')"
   ]
  },
  {
   "cell_type": "code",
   "execution_count": 13,
   "metadata": {},
   "outputs": [
    {
     "name": "stdout",
     "output_type": "stream",
     "text": [
      "Vacios en games: 0\n"
     ]
    }
   ],
   "source": [
    "#Resolvemos\n",
    "games.dropna(inplace=True)\n",
    "print(f'Vacios en games: {games.isna().sum().sum()}')"
   ]
  },
  {
   "cell_type": "code",
   "execution_count": null,
   "metadata": {},
   "outputs": [],
   "source": [
    "#Normalización de la columna Games\n",
    "\n"
   ]
  },
  {
   "cell_type": "code",
   "execution_count": 14,
   "metadata": {},
   "outputs": [
    {
     "data": {
      "text/html": [
       "<div>\n",
       "<style scoped>\n",
       "    .dataframe tbody tr th:only-of-type {\n",
       "        vertical-align: middle;\n",
       "    }\n",
       "\n",
       "    .dataframe tbody tr th {\n",
       "        vertical-align: top;\n",
       "    }\n",
       "\n",
       "    .dataframe thead th {\n",
       "        text-align: right;\n",
       "    }\n",
       "</style>\n",
       "<table border=\"1\" class=\"dataframe\">\n",
       "  <thead>\n",
       "    <tr style=\"text-align: right;\">\n",
       "      <th></th>\n",
       "      <th>publisher</th>\n",
       "      <th>genres</th>\n",
       "      <th>app_name</th>\n",
       "      <th>title</th>\n",
       "      <th>url</th>\n",
       "      <th>release_date</th>\n",
       "      <th>tags</th>\n",
       "      <th>reviews_url</th>\n",
       "      <th>specs</th>\n",
       "      <th>price</th>\n",
       "      <th>early_access</th>\n",
       "      <th>id</th>\n",
       "      <th>developer</th>\n",
       "    </tr>\n",
       "  </thead>\n",
       "  <tbody>\n",
       "    <tr>\n",
       "      <th>99488</th>\n",
       "      <td>Mia Blais-Côté</td>\n",
       "      <td>[Casual, Simulation]</td>\n",
       "      <td>The Art of Les Quatre Alices</td>\n",
       "      <td>The Art of Les Quatre Alices</td>\n",
       "      <td>http://store.steampowered.com/app/676670/The_A...</td>\n",
       "      <td>2017-08-28</td>\n",
       "      <td>[Casual, Simulation, Visual Novel, Singleplaye...</td>\n",
       "      <td>http://steamcommunity.com/app/676670/reviews/?...</td>\n",
       "      <td>[Single-player, Downloadable Content, Steam Ac...</td>\n",
       "      <td>0.99</td>\n",
       "      <td>False</td>\n",
       "      <td>676670</td>\n",
       "      <td>Mia Blais-Côté</td>\n",
       "    </tr>\n",
       "    <tr>\n",
       "      <th>107408</th>\n",
       "      <td>Degica</td>\n",
       "      <td>[Action]</td>\n",
       "      <td>DARIUSBURST Chronicle Saviours - Side Arms Hyp...</td>\n",
       "      <td>DARIUSBURST Chronicle Saviours - Side Arms Hyp...</td>\n",
       "      <td>http://store.steampowered.com/app/572380/DARIU...</td>\n",
       "      <td>2017-02-15</td>\n",
       "      <td>[Action]</td>\n",
       "      <td>http://steamcommunity.com/app/572380/reviews/?...</td>\n",
       "      <td>[Single-player, Downloadable Content, Full con...</td>\n",
       "      <td>4.99</td>\n",
       "      <td>False</td>\n",
       "      <td>572380</td>\n",
       "      <td>Pyramid,Chara-Ani,G.rev Ltd.</td>\n",
       "    </tr>\n",
       "    <tr>\n",
       "      <th>102819</th>\n",
       "      <td>FomoonSoft</td>\n",
       "      <td>[Action, Indie, Early Access]</td>\n",
       "      <td>Keyscaper</td>\n",
       "      <td>Keyscaper</td>\n",
       "      <td>http://store.steampowered.com/app/732980/Keysc...</td>\n",
       "      <td>2017-10-27</td>\n",
       "      <td>[Early Access, Action, Indie, Violent]</td>\n",
       "      <td>http://steamcommunity.com/app/732980/reviews/?...</td>\n",
       "      <td>[Multi-player, Online Multi-Player]</td>\n",
       "      <td>7.99</td>\n",
       "      <td>True</td>\n",
       "      <td>732980</td>\n",
       "      <td>FomoonSoft</td>\n",
       "    </tr>\n",
       "  </tbody>\n",
       "</table>\n",
       "</div>"
      ],
      "text/plain": [
       "             publisher                         genres  \\\n",
       "99488   Mia Blais-Côté           [Casual, Simulation]   \n",
       "107408          Degica                       [Action]   \n",
       "102819      FomoonSoft  [Action, Indie, Early Access]   \n",
       "\n",
       "                                                 app_name  \\\n",
       "99488                        The Art of Les Quatre Alices   \n",
       "107408  DARIUSBURST Chronicle Saviours - Side Arms Hyp...   \n",
       "102819                                          Keyscaper   \n",
       "\n",
       "                                                    title  \\\n",
       "99488                        The Art of Les Quatre Alices   \n",
       "107408  DARIUSBURST Chronicle Saviours - Side Arms Hyp...   \n",
       "102819                                          Keyscaper   \n",
       "\n",
       "                                                      url release_date  \\\n",
       "99488   http://store.steampowered.com/app/676670/The_A...   2017-08-28   \n",
       "107408  http://store.steampowered.com/app/572380/DARIU...   2017-02-15   \n",
       "102819  http://store.steampowered.com/app/732980/Keysc...   2017-10-27   \n",
       "\n",
       "                                                     tags  \\\n",
       "99488   [Casual, Simulation, Visual Novel, Singleplaye...   \n",
       "107408                                           [Action]   \n",
       "102819             [Early Access, Action, Indie, Violent]   \n",
       "\n",
       "                                              reviews_url  \\\n",
       "99488   http://steamcommunity.com/app/676670/reviews/?...   \n",
       "107408  http://steamcommunity.com/app/572380/reviews/?...   \n",
       "102819  http://steamcommunity.com/app/732980/reviews/?...   \n",
       "\n",
       "                                                    specs price early_access  \\\n",
       "99488   [Single-player, Downloadable Content, Steam Ac...  0.99        False   \n",
       "107408  [Single-player, Downloadable Content, Full con...  4.99        False   \n",
       "102819                [Multi-player, Online Multi-Player]  7.99         True   \n",
       "\n",
       "            id                     developer  \n",
       "99488   676670                Mia Blais-Côté  \n",
       "107408  572380  Pyramid,Chara-Ani,G.rev Ltd.  \n",
       "102819  732980                    FomoonSoft  "
      ]
     },
     "execution_count": 14,
     "metadata": {},
     "output_type": "execute_result"
    }
   ],
   "source": [
    "games.sample(3)\n"
   ]
  },
  {
   "cell_type": "code",
   "execution_count": 15,
   "metadata": {},
   "outputs": [
    {
     "name": "stdout",
     "output_type": "stream",
     "text": [
      "Registro iguales entre la columna app_name y title: 22179\n",
      "Cantidad de registros en el dataframe 'games': 22530\n"
     ]
    }
   ],
   "source": [
    "print(f\"Registro iguales entre la columna app_name y title: {(games['app_name']==games['title']).sum()}\")\n",
    "print(f\"Cantidad de registros en el dataframe 'games': {len(games)}\")"
   ]
  },
  {
   "cell_type": "code",
   "execution_count": null,
   "metadata": {},
   "outputs": [],
   "source": [
    "'''La mayoria de los valores de una columna se encuentran en la otra, asi que dejaremos una de las dos \n",
    "para que sirva de referencia total al nombre del videojuego y aprovecharemos para eliminar columnas que \n",
    "no utilizaremos'''"
   ]
  },
  {
   "cell_type": "code",
   "execution_count": 16,
   "metadata": {},
   "outputs": [],
   "source": [
    "games.drop(columns=['app_name','specs','early_access','publisher','tags','reviews_url'],inplace=True)\n"
   ]
  },
  {
   "cell_type": "code",
   "execution_count": null,
   "metadata": {},
   "outputs": [],
   "source": [
    "games = games.explode('genres')\n"
   ]
  },
  {
   "cell_type": "code",
   "execution_count": 17,
   "metadata": {},
   "outputs": [],
   "source": [
    "games['price'] = pd.to_numeric(games['price'],errors='coerce').astype(float)\n",
    "games['price'].fillna(0,inplace=True)"
   ]
  },
  {
   "cell_type": "code",
   "execution_count": 18,
   "metadata": {},
   "outputs": [
    {
     "data": {
      "text/html": [
       "<div>\n",
       "<style scoped>\n",
       "    .dataframe tbody tr th:only-of-type {\n",
       "        vertical-align: middle;\n",
       "    }\n",
       "\n",
       "    .dataframe tbody tr th {\n",
       "        vertical-align: top;\n",
       "    }\n",
       "\n",
       "    .dataframe thead th {\n",
       "        text-align: right;\n",
       "    }\n",
       "</style>\n",
       "<table border=\"1\" class=\"dataframe\">\n",
       "  <thead>\n",
       "    <tr style=\"text-align: right;\">\n",
       "      <th></th>\n",
       "      <th>genres</th>\n",
       "      <th>title</th>\n",
       "      <th>url</th>\n",
       "      <th>release_date</th>\n",
       "      <th>price</th>\n",
       "      <th>id</th>\n",
       "      <th>developer</th>\n",
       "    </tr>\n",
       "  </thead>\n",
       "  <tbody>\n",
       "    <tr>\n",
       "      <th>88311</th>\n",
       "      <td>[Free to Play, Indie, RPG, Strategy]</td>\n",
       "      <td>Ironbound</td>\n",
       "      <td>http://store.steampowered.com/app/643980/Ironb...</td>\n",
       "      <td>2018-01-04</td>\n",
       "      <td>0.0</td>\n",
       "      <td>643980</td>\n",
       "      <td>Secret Level SRL</td>\n",
       "    </tr>\n",
       "    <tr>\n",
       "      <th>88312</th>\n",
       "      <td>[Casual, Free to Play, Indie, Simulation, Sports]</td>\n",
       "      <td>Real Pool 3D - Poolians</td>\n",
       "      <td>http://store.steampowered.com/app/670290/Real_...</td>\n",
       "      <td>2017-07-24</td>\n",
       "      <td>0.0</td>\n",
       "      <td>670290</td>\n",
       "      <td>Poolians.com</td>\n",
       "    </tr>\n",
       "    <tr>\n",
       "      <th>88370</th>\n",
       "      <td>[Casual, Indie]</td>\n",
       "      <td>Zen of Sudoku</td>\n",
       "      <td>http://store.steampowered.com/app/4900/Zen_of_...</td>\n",
       "      <td>2006-12-14</td>\n",
       "      <td>0.0</td>\n",
       "      <td>4900</td>\n",
       "      <td>Unknown Worlds Entertainment</td>\n",
       "    </tr>\n",
       "    <tr>\n",
       "      <th>88501</th>\n",
       "      <td>[Action]</td>\n",
       "      <td>Mare Nostrum</td>\n",
       "      <td>http://store.steampowered.com/app/1230/Mare_No...</td>\n",
       "      <td>2008-10-17</td>\n",
       "      <td>0.0</td>\n",
       "      <td>1230</td>\n",
       "      <td>Sandstorm Productions</td>\n",
       "    </tr>\n",
       "    <tr>\n",
       "      <th>88558</th>\n",
       "      <td>[Action, Simulation]</td>\n",
       "      <td>Darkest Hour: Europe '44-'45</td>\n",
       "      <td>http://store.steampowered.com/app/1280/Darkest...</td>\n",
       "      <td>2009-06-09</td>\n",
       "      <td>0.0</td>\n",
       "      <td>1280</td>\n",
       "      <td>Darklight Games</td>\n",
       "    </tr>\n",
       "    <tr>\n",
       "      <th>...</th>\n",
       "      <td>...</td>\n",
       "      <td>...</td>\n",
       "      <td>...</td>\n",
       "      <td>...</td>\n",
       "      <td>...</td>\n",
       "      <td>...</td>\n",
       "      <td>...</td>\n",
       "    </tr>\n",
       "    <tr>\n",
       "      <th>120287</th>\n",
       "      <td>[Free to Play, Indie, RPG, Strategy]</td>\n",
       "      <td>Aurora Trail</td>\n",
       "      <td>http://store.steampowered.com/app/755150/Auror...</td>\n",
       "      <td>2017-12-28</td>\n",
       "      <td>0.0</td>\n",
       "      <td>755150</td>\n",
       "      <td>Screenhit Studios</td>\n",
       "    </tr>\n",
       "    <tr>\n",
       "      <th>120303</th>\n",
       "      <td>[Free to Play, Simulation]</td>\n",
       "      <td>Six Days of Snow</td>\n",
       "      <td>http://store.steampowered.com/app/754810/Six_D...</td>\n",
       "      <td>2017-12-29</td>\n",
       "      <td>0.0</td>\n",
       "      <td>754810</td>\n",
       "      <td>ebi-hime</td>\n",
       "    </tr>\n",
       "    <tr>\n",
       "      <th>120317</th>\n",
       "      <td>[Action, Casual, Free to Play, Indie]</td>\n",
       "      <td>Bloodworks</td>\n",
       "      <td>http://store.steampowered.com/app/717990/Blood...</td>\n",
       "      <td>2018-01-01</td>\n",
       "      <td>0.0</td>\n",
       "      <td>717990</td>\n",
       "      <td>Engin Mercan</td>\n",
       "    </tr>\n",
       "    <tr>\n",
       "      <th>120410</th>\n",
       "      <td>[Action, Free to Play, Massively Multiplayer, ...</td>\n",
       "      <td>忍者村大战2</td>\n",
       "      <td>http://store.steampowered.com/app/754350/2/</td>\n",
       "      <td>2018-01-03</td>\n",
       "      <td>0.0</td>\n",
       "      <td>754350</td>\n",
       "      <td>杭州分浪网络科技有限公司</td>\n",
       "    </tr>\n",
       "    <tr>\n",
       "      <th>120411</th>\n",
       "      <td>[Simulation]</td>\n",
       "      <td>High School Simulator</td>\n",
       "      <td>http://store.steampowered.com/app/754620/High_...</td>\n",
       "      <td>2018-01-03</td>\n",
       "      <td>0.0</td>\n",
       "      <td>754620</td>\n",
       "      <td>KUMA GAMES</td>\n",
       "    </tr>\n",
       "  </tbody>\n",
       "</table>\n",
       "<p>1308 rows × 7 columns</p>\n",
       "</div>"
      ],
      "text/plain": [
       "                                                   genres  \\\n",
       "88311                [Free to Play, Indie, RPG, Strategy]   \n",
       "88312   [Casual, Free to Play, Indie, Simulation, Sports]   \n",
       "88370                                     [Casual, Indie]   \n",
       "88501                                            [Action]   \n",
       "88558                                [Action, Simulation]   \n",
       "...                                                   ...   \n",
       "120287               [Free to Play, Indie, RPG, Strategy]   \n",
       "120303                         [Free to Play, Simulation]   \n",
       "120317              [Action, Casual, Free to Play, Indie]   \n",
       "120410  [Action, Free to Play, Massively Multiplayer, ...   \n",
       "120411                                       [Simulation]   \n",
       "\n",
       "                               title  \\\n",
       "88311                      Ironbound   \n",
       "88312        Real Pool 3D - Poolians   \n",
       "88370                  Zen of Sudoku   \n",
       "88501                   Mare Nostrum   \n",
       "88558   Darkest Hour: Europe '44-'45   \n",
       "...                              ...   \n",
       "120287                  Aurora Trail   \n",
       "120303              Six Days of Snow   \n",
       "120317                    Bloodworks   \n",
       "120410                        忍者村大战2   \n",
       "120411         High School Simulator   \n",
       "\n",
       "                                                      url release_date  price  \\\n",
       "88311   http://store.steampowered.com/app/643980/Ironb...   2018-01-04    0.0   \n",
       "88312   http://store.steampowered.com/app/670290/Real_...   2017-07-24    0.0   \n",
       "88370   http://store.steampowered.com/app/4900/Zen_of_...   2006-12-14    0.0   \n",
       "88501   http://store.steampowered.com/app/1230/Mare_No...   2008-10-17    0.0   \n",
       "88558   http://store.steampowered.com/app/1280/Darkest...   2009-06-09    0.0   \n",
       "...                                                   ...          ...    ...   \n",
       "120287  http://store.steampowered.com/app/755150/Auror...   2017-12-28    0.0   \n",
       "120303  http://store.steampowered.com/app/754810/Six_D...   2017-12-29    0.0   \n",
       "120317  http://store.steampowered.com/app/717990/Blood...   2018-01-01    0.0   \n",
       "120410        http://store.steampowered.com/app/754350/2/   2018-01-03    0.0   \n",
       "120411  http://store.steampowered.com/app/754620/High_...   2018-01-03    0.0   \n",
       "\n",
       "            id                     developer  \n",
       "88311   643980              Secret Level SRL  \n",
       "88312   670290                  Poolians.com  \n",
       "88370     4900  Unknown Worlds Entertainment  \n",
       "88501     1230         Sandstorm Productions  \n",
       "88558     1280               Darklight Games  \n",
       "...        ...                           ...  \n",
       "120287  755150             Screenhit Studios  \n",
       "120303  754810                      ebi-hime  \n",
       "120317  717990                  Engin Mercan  \n",
       "120410  754350                  杭州分浪网络科技有限公司  \n",
       "120411  754620                    KUMA GAMES  \n",
       "\n",
       "[1308 rows x 7 columns]"
      ]
     },
     "execution_count": 18,
     "metadata": {},
     "output_type": "execute_result"
    }
   ],
   "source": [
    "games[games['price']==0]\n"
   ]
  },
  {
   "cell_type": "code",
   "execution_count": 20,
   "metadata": {},
   "outputs": [],
   "source": [
    "#Modificaciones para un futuro merge con la tabla item que nos permita unificar las tres tablas\n",
    "\n",
    "games.rename(columns={\"title\":\"game_title\"},inplace=True)"
   ]
  },
  {
   "cell_type": "code",
   "execution_count": 21,
   "metadata": {},
   "outputs": [],
   "source": [
    "games['release_date'] = pd.to_datetime(games['release_date'],errors='coerce')\n",
    "games.dropna(inplace=True)"
   ]
  },
  {
   "cell_type": "code",
   "execution_count": 22,
   "metadata": {},
   "outputs": [
    {
     "data": {
      "text/html": [
       "<div>\n",
       "<style scoped>\n",
       "    .dataframe tbody tr th:only-of-type {\n",
       "        vertical-align: middle;\n",
       "    }\n",
       "\n",
       "    .dataframe tbody tr th {\n",
       "        vertical-align: top;\n",
       "    }\n",
       "\n",
       "    .dataframe thead th {\n",
       "        text-align: right;\n",
       "    }\n",
       "</style>\n",
       "<table border=\"1\" class=\"dataframe\">\n",
       "  <thead>\n",
       "    <tr style=\"text-align: right;\">\n",
       "      <th></th>\n",
       "      <th>genres</th>\n",
       "      <th>game_title</th>\n",
       "      <th>url</th>\n",
       "      <th>release_date</th>\n",
       "      <th>price</th>\n",
       "      <th>id</th>\n",
       "      <th>developer</th>\n",
       "    </tr>\n",
       "  </thead>\n",
       "  <tbody>\n",
       "    <tr>\n",
       "      <th>119269</th>\n",
       "      <td>[Action, Adventure]</td>\n",
       "      <td>Alan Wake's American Nightmare</td>\n",
       "      <td>http://store.steampowered.com/app/202750/Alan_...</td>\n",
       "      <td>2012-05-22</td>\n",
       "      <td>9.99</td>\n",
       "      <td>202750</td>\n",
       "      <td>Remedy Entertainment</td>\n",
       "    </tr>\n",
       "  </tbody>\n",
       "</table>\n",
       "</div>"
      ],
      "text/plain": [
       "                     genres                      game_title  \\\n",
       "119269  [Action, Adventure]  Alan Wake's American Nightmare   \n",
       "\n",
       "                                                      url release_date  price  \\\n",
       "119269  http://store.steampowered.com/app/202750/Alan_...   2012-05-22   9.99   \n",
       "\n",
       "            id             developer  \n",
       "119269  202750  Remedy Entertainment  "
      ]
     },
     "execution_count": 22,
     "metadata": {},
     "output_type": "execute_result"
    }
   ],
   "source": [
    "games.sample()\n"
   ]
  },
  {
   "cell_type": "code",
   "execution_count": 23,
   "metadata": {},
   "outputs": [
    {
     "data": {
      "text/html": [
       "<div>\n",
       "<style scoped>\n",
       "    .dataframe tbody tr th:only-of-type {\n",
       "        vertical-align: middle;\n",
       "    }\n",
       "\n",
       "    .dataframe tbody tr th {\n",
       "        vertical-align: top;\n",
       "    }\n",
       "\n",
       "    .dataframe thead th {\n",
       "        text-align: right;\n",
       "    }\n",
       "</style>\n",
       "<table border=\"1\" class=\"dataframe\">\n",
       "  <thead>\n",
       "    <tr style=\"text-align: right;\">\n",
       "      <th></th>\n",
       "      <th>user_id</th>\n",
       "      <th>user_url</th>\n",
       "      <th>reviews</th>\n",
       "    </tr>\n",
       "  </thead>\n",
       "  <tbody>\n",
       "    <tr>\n",
       "      <th>23218</th>\n",
       "      <td>76561198080270958</td>\n",
       "      <td>http://steamcommunity.com/profiles/76561198080...</td>\n",
       "      <td>[{'funny': '', 'posted': 'Posted October 18, 2...</td>\n",
       "    </tr>\n",
       "  </tbody>\n",
       "</table>\n",
       "</div>"
      ],
      "text/plain": [
       "                 user_id                                           user_url  \\\n",
       "23218  76561198080270958  http://steamcommunity.com/profiles/76561198080...   \n",
       "\n",
       "                                                 reviews  \n",
       "23218  [{'funny': '', 'posted': 'Posted October 18, 2...  "
      ]
     },
     "execution_count": 23,
     "metadata": {},
     "output_type": "execute_result"
    }
   ],
   "source": [
    "#Reviews\n",
    "reviews.sample()\n"
   ]
  },
  {
   "cell_type": "code",
   "execution_count": 24,
   "metadata": {},
   "outputs": [
    {
     "data": {
      "text/plain": [
       "[{'funny': '',\n",
       "  'posted': 'Posted November 5, 2011.',\n",
       "  'last_edited': '',\n",
       "  'item_id': '1250',\n",
       "  'helpful': 'No ratings yet',\n",
       "  'recommend': True,\n",
       "  'review': 'Simple yet with great replayability. In my opinion does \"zombie\" hordes and team work better than left 4 dead plus has a global leveling system. Alot of down to earth \"zombie\" splattering fun for the whole family. Amazed this sort of FPS is so rare.'},\n",
       " {'funny': '',\n",
       "  'posted': 'Posted July 15, 2011.',\n",
       "  'last_edited': '',\n",
       "  'item_id': '22200',\n",
       "  'helpful': 'No ratings yet',\n",
       "  'recommend': True,\n",
       "  'review': \"It's unique and worth a playthrough.\"},\n",
       " {'funny': '',\n",
       "  'posted': 'Posted April 21, 2011.',\n",
       "  'last_edited': '',\n",
       "  'item_id': '43110',\n",
       "  'helpful': 'No ratings yet',\n",
       "  'recommend': True,\n",
       "  'review': 'Great atmosphere. The gunplay can be a bit chunky at times but at the end of the day this game is definitely worth it and I hope they do a sequel...so buy the game so I get a sequel!'}]"
      ]
     },
     "execution_count": 24,
     "metadata": {},
     "output_type": "execute_result"
    }
   ],
   "source": [
    "### Otra columna multivaluada\n",
    "\n",
    "reviews['reviews'].iloc[0]\n",
    "\n",
    "\n"
   ]
  },
  {
   "cell_type": "code",
   "execution_count": 25,
   "metadata": {},
   "outputs": [],
   "source": [
    "# Desglosamos\n",
    "reviews = reviews.explode('reviews')"
   ]
  },
  {
   "cell_type": "code",
   "execution_count": 26,
   "metadata": {},
   "outputs": [],
   "source": [
    "# Dividimos cada llave de cada diccionario dentro de su propia columna dentro de nuestro dataset\n",
    "reviews['posted'] = reviews['reviews'].apply(lambda x: np.nan if isinstance(x,float) else x['posted'])\n",
    "reviews['item_id'] = reviews['reviews'].apply(lambda x: np.nan if isinstance(x,float) else x['item_id'])\n",
    "reviews['recommend'] = reviews['reviews'].apply(lambda x: np.nan if isinstance(x,float) else x['recommend'])\n",
    "reviews['review'] = reviews['reviews'].apply(lambda x: np.nan if isinstance(x,float) else x['review'])"
   ]
  },
  {
   "cell_type": "code",
   "execution_count": 27,
   "metadata": {},
   "outputs": [
    {
     "name": "stdout",
     "output_type": "stream",
     "text": [
      "Vacios: 140\n",
      "Vacios: 0\n"
     ]
    }
   ],
   "source": [
    "print(f\"Vacios: {reviews.isna().sum().sum()}\")\n",
    "reviews.dropna(inplace=True)\n",
    "print(f\"Vacios: {reviews.isna().sum().sum()}\")"
   ]
  },
  {
   "cell_type": "code",
   "execution_count": 28,
   "metadata": {},
   "outputs": [],
   "source": [
    "# Eliminamos la sobrante\n",
    "reviews.drop(columns=['reviews'],inplace=True)"
   ]
  },
  {
   "cell_type": "code",
   "execution_count": 29,
   "metadata": {},
   "outputs": [
    {
     "data": {
      "text/html": [
       "<div>\n",
       "<style scoped>\n",
       "    .dataframe tbody tr th:only-of-type {\n",
       "        vertical-align: middle;\n",
       "    }\n",
       "\n",
       "    .dataframe tbody tr th {\n",
       "        vertical-align: top;\n",
       "    }\n",
       "\n",
       "    .dataframe thead th {\n",
       "        text-align: right;\n",
       "    }\n",
       "</style>\n",
       "<table border=\"1\" class=\"dataframe\">\n",
       "  <thead>\n",
       "    <tr style=\"text-align: right;\">\n",
       "      <th></th>\n",
       "      <th>user_id</th>\n",
       "      <th>user_url</th>\n",
       "      <th>posted</th>\n",
       "      <th>item_id</th>\n",
       "      <th>recommend</th>\n",
       "      <th>review</th>\n",
       "    </tr>\n",
       "  </thead>\n",
       "  <tbody>\n",
       "    <tr>\n",
       "      <th>20053</th>\n",
       "      <td>saalazar</td>\n",
       "      <td>http://steamcommunity.com/id/saalazar</td>\n",
       "      <td>Posted February 2.</td>\n",
       "      <td>730</td>\n",
       "      <td>True</td>\n",
       "      <td>10/10</td>\n",
       "    </tr>\n",
       "  </tbody>\n",
       "</table>\n",
       "</div>"
      ],
      "text/plain": [
       "        user_id                               user_url              posted  \\\n",
       "20053  saalazar  http://steamcommunity.com/id/saalazar  Posted February 2.   \n",
       "\n",
       "      item_id recommend review  \n",
       "20053     730      True  10/10  "
      ]
     },
     "execution_count": 29,
     "metadata": {},
     "output_type": "execute_result"
    }
   ],
   "source": [
    "reviews.sample()\n"
   ]
  },
  {
   "cell_type": "code",
   "execution_count": 30,
   "metadata": {},
   "outputs": [],
   "source": [
    "# Las columnas de fechas deberian tener todas un mismo formato\n",
    "# Dividimos las cadenas de texto en mes dia y año\n",
    "reviews['posted'] = reviews['posted'].str.replace(',','').str.replace('.','').str.replace('Posted','').str.split()\n",
    "\n",
    "# Creamos un hashmap para la traducción de string a numero como referencia del mes \n",
    "months = {\n",
    "  'January': 1,\n",
    "  'February': 2,\n",
    "  'March': 3,\n",
    "  'April': 4,\n",
    "  'May': 5,\n",
    "  'June': 6,\n",
    "  'July': 7,\n",
    "  'August': 8,\n",
    "  'September': 9,\n",
    "  'October': 10,\n",
    "  'November': 11,\n",
    "  'December': 12\n",
    "}\n",
    "# Array para añadir cada registro ya traducido posteriormente al dataframe\n",
    "dates=[]\n",
    "for i,x in enumerate(reviews.itertuples()): # Se itera los registros\n",
    "\n",
    "  if len(x.posted)==3: # Si el campo posee todo los campos encesarios para tener una fecha entonces se declara la fecha\n",
    "    date = f\"{x.posted[2]}-{months[x.posted[0]]}-{x.posted[1]}\" \n",
    "  else: \n",
    "    date = np.nan\n",
    "\n",
    "  dates.append(pd.to_datetime(date).date())\n",
    "\n",
    "reviews['posted'] = pd.DataFrame(dates) # Se añaden a la columna del dataframe\n"
   ]
  },
  {
   "cell_type": "code",
   "execution_count": 31,
   "metadata": {},
   "outputs": [],
   "source": [
    "# Feature Engineering\n",
    "\n",
    "'''Para una consulta en nuestra API vamos a necesitar una nueva columna que nos \n",
    "especifique cual es el sentimiento que emerge de las palabras de las reviews de \n",
    "los usuarios. Para eso utilizaremos una libreria famosa para el procesamiento de \n",
    "lenguaje natural que nos colaborará en el proceso.'''\n",
    "\n",
    "from nltk.sentiment.vader import SentimentIntensityAnalyzer\n",
    "\n",
    "SID = SentimentIntensityAnalyzer()\n",
    "analysis = []\n",
    "\n",
    "for x in reviews.itertuples():\n",
    "  sentiment = SID.polarity_scores(x.review)['compound']\n",
    "  if sentiment<-.2:\n",
    "    value = 0\n",
    "  elif sentiment>.2:\n",
    "    value = 2\n",
    "  else:\n",
    "    value = 1\n",
    "  analysis.append(value)\n",
    "\n",
    "reviews['sentiment'] = pd.DataFrame(analysis)\n"
   ]
  },
  {
   "cell_type": "code",
   "execution_count": 32,
   "metadata": {},
   "outputs": [
    {
     "data": {
      "text/html": [
       "<div>\n",
       "<style scoped>\n",
       "    .dataframe tbody tr th:only-of-type {\n",
       "        vertical-align: middle;\n",
       "    }\n",
       "\n",
       "    .dataframe tbody tr th {\n",
       "        vertical-align: top;\n",
       "    }\n",
       "\n",
       "    .dataframe thead th {\n",
       "        text-align: right;\n",
       "    }\n",
       "</style>\n",
       "<table border=\"1\" class=\"dataframe\">\n",
       "  <thead>\n",
       "    <tr style=\"text-align: right;\">\n",
       "      <th></th>\n",
       "      <th>user_id</th>\n",
       "      <th>user_url</th>\n",
       "      <th>posted</th>\n",
       "      <th>item_id</th>\n",
       "      <th>recommend</th>\n",
       "      <th>review</th>\n",
       "      <th>sentiment</th>\n",
       "    </tr>\n",
       "  </thead>\n",
       "  <tbody>\n",
       "    <tr>\n",
       "      <th>2853</th>\n",
       "      <td>force445</td>\n",
       "      <td>http://steamcommunity.com/id/force445</td>\n",
       "      <td>2015-03-19</td>\n",
       "      <td>440</td>\n",
       "      <td>False</td>\n",
       "      <td>เกมกากสัส</td>\n",
       "      <td>1</td>\n",
       "    </tr>\n",
       "  </tbody>\n",
       "</table>\n",
       "</div>"
      ],
      "text/plain": [
       "       user_id                               user_url      posted item_id  \\\n",
       "2853  force445  http://steamcommunity.com/id/force445  2015-03-19     440   \n",
       "\n",
       "     recommend     review  sentiment  \n",
       "2853     False  เกมกากสัส          1  "
      ]
     },
     "execution_count": 32,
     "metadata": {},
     "output_type": "execute_result"
    }
   ],
   "source": [
    "reviews.sample()\n"
   ]
  },
  {
   "cell_type": "code",
   "execution_count": 33,
   "metadata": {},
   "outputs": [
    {
     "data": {
      "text/html": [
       "<div>\n",
       "<style scoped>\n",
       "    .dataframe tbody tr th:only-of-type {\n",
       "        vertical-align: middle;\n",
       "    }\n",
       "\n",
       "    .dataframe tbody tr th {\n",
       "        vertical-align: top;\n",
       "    }\n",
       "\n",
       "    .dataframe thead th {\n",
       "        text-align: right;\n",
       "    }\n",
       "</style>\n",
       "<table border=\"1\" class=\"dataframe\">\n",
       "  <thead>\n",
       "    <tr style=\"text-align: right;\">\n",
       "      <th></th>\n",
       "      <th>user_id</th>\n",
       "      <th>items_count</th>\n",
       "      <th>steam_id</th>\n",
       "      <th>user_url</th>\n",
       "      <th>items</th>\n",
       "    </tr>\n",
       "  </thead>\n",
       "  <tbody>\n",
       "    <tr>\n",
       "      <th>27692</th>\n",
       "      <td>76561198004007202</td>\n",
       "      <td>162</td>\n",
       "      <td>76561198004007202</td>\n",
       "      <td>http://steamcommunity.com/profiles/76561198004...</td>\n",
       "      <td>[{'item_id': '320', 'item_name': 'Half-Life 2:...</td>\n",
       "    </tr>\n",
       "  </tbody>\n",
       "</table>\n",
       "</div>"
      ],
      "text/plain": [
       "                 user_id  items_count           steam_id  \\\n",
       "27692  76561198004007202          162  76561198004007202   \n",
       "\n",
       "                                                user_url  \\\n",
       "27692  http://steamcommunity.com/profiles/76561198004...   \n",
       "\n",
       "                                                   items  \n",
       "27692  [{'item_id': '320', 'item_name': 'Half-Life 2:...  "
      ]
     },
     "execution_count": 33,
     "metadata": {},
     "output_type": "execute_result"
    }
   ],
   "source": [
    "items.sample()\n"
   ]
  },
  {
   "cell_type": "code",
   "execution_count": null,
   "metadata": {},
   "outputs": [],
   "source": [
    "# Otra columna multivariada"
   ]
  },
  {
   "cell_type": "code",
   "execution_count": 34,
   "metadata": {},
   "outputs": [],
   "source": [
    "# Se divide las listas por registro\n",
    "items = items.explode('items')"
   ]
  },
  {
   "cell_type": "code",
   "execution_count": 35,
   "metadata": {},
   "outputs": [],
   "source": [
    "# Dividimos cada llave de cada diccionario dentro de su propia columna dentro de nuestro dataset\n",
    "items['item_id'] = items['items'].apply(lambda x: np.nan if isinstance(x,float) else x['item_id'])\n",
    "items['item_name'] = items['items'].apply(lambda x: np.nan if isinstance(x,float) else x['item_name'])\n",
    "items['playtime_forever'] = items['items'].apply(lambda x: np.nan if isinstance(x,float) else x['playtime_forever'])"
   ]
  },
  {
   "cell_type": "code",
   "execution_count": 36,
   "metadata": {},
   "outputs": [
    {
     "name": "stdout",
     "output_type": "stream",
     "text": [
      "Vacios: 67224\n",
      "Vacios: 0\n"
     ]
    }
   ],
   "source": [
    "# Validamos vacios\n",
    "print(f\"Vacios: {items.isna().sum().sum()}\")\n",
    "items.dropna(inplace=True)\n",
    "print(f\"Vacios: {items.isna().sum().sum()}\")"
   ]
  },
  {
   "cell_type": "code",
   "execution_count": 37,
   "metadata": {},
   "outputs": [],
   "source": [
    "# Eliminamos columnas innecesarias\n",
    "items.drop(columns=['items','steam_id','items_count','user_url'],inplace=True)"
   ]
  },
  {
   "cell_type": "code",
   "execution_count": 38,
   "metadata": {},
   "outputs": [],
   "source": [
    "items.rename(columns={\"item_name\":\"game_title\"},inplace=True)"
   ]
  },
  {
   "cell_type": "code",
   "execution_count": 39,
   "metadata": {},
   "outputs": [
    {
     "data": {
      "text/html": [
       "<div>\n",
       "<style scoped>\n",
       "    .dataframe tbody tr th:only-of-type {\n",
       "        vertical-align: middle;\n",
       "    }\n",
       "\n",
       "    .dataframe tbody tr th {\n",
       "        vertical-align: top;\n",
       "    }\n",
       "\n",
       "    .dataframe thead th {\n",
       "        text-align: right;\n",
       "    }\n",
       "</style>\n",
       "<table border=\"1\" class=\"dataframe\">\n",
       "  <thead>\n",
       "    <tr style=\"text-align: right;\">\n",
       "      <th></th>\n",
       "      <th>user_id</th>\n",
       "      <th>item_id</th>\n",
       "      <th>game_title</th>\n",
       "      <th>playtime_forever</th>\n",
       "    </tr>\n",
       "  </thead>\n",
       "  <tbody>\n",
       "    <tr>\n",
       "      <th>26453</th>\n",
       "      <td>76561198276571851</td>\n",
       "      <td>214490</td>\n",
       "      <td>Alien: Isolation</td>\n",
       "      <td>380.0</td>\n",
       "    </tr>\n",
       "  </tbody>\n",
       "</table>\n",
       "</div>"
      ],
      "text/plain": [
       "                 user_id item_id        game_title  playtime_forever\n",
       "26453  76561198276571851  214490  Alien: Isolation             380.0"
      ]
     },
     "execution_count": 39,
     "metadata": {},
     "output_type": "execute_result"
    }
   ],
   "source": [
    "items.sample()\n"
   ]
  },
  {
   "cell_type": "code",
   "execution_count": 40,
   "metadata": {},
   "outputs": [],
   "source": [
    "#Load\n",
    "\n",
    "''' Por último cargamos nuestros datos ya procesados a un sistema de origen. \n",
    "Este sistema dependera bastante de los requisitos de la organización y varía \n",
    "según sus objetivos. Para este proyecto la carga se hará directamente en la \n",
    "Web mediante una API y en esta ocasión exportaremos solo parte de nuestro \n",
    "gran dataset, por cuestion de rendimiento, eficiencia y funcionamiento de \n",
    "la aplicacion que utilizaremos para el despliegue, Render. \n",
    "Para ser mas claros estos servicios poseen una prueba gratuita p\n",
    "ero bastante limitada en cuestión de memoria.'''\n",
    "\n",
    "game_item = pd.merge(games,items,on='game_title')\n",
    "game_item.drop(columns=['game_title','url','id','item_id'],inplace=True)\n",
    "game_item['release_date'] = pd.to_datetime(game_item['release_date']).dt.year"
   ]
  },
  {
   "cell_type": "code",
   "execution_count": 41,
   "metadata": {},
   "outputs": [
    {
     "data": {
      "text/html": [
       "<div>\n",
       "<style scoped>\n",
       "    .dataframe tbody tr th:only-of-type {\n",
       "        vertical-align: middle;\n",
       "    }\n",
       "\n",
       "    .dataframe tbody tr th {\n",
       "        vertical-align: top;\n",
       "    }\n",
       "\n",
       "    .dataframe thead th {\n",
       "        text-align: right;\n",
       "    }\n",
       "</style>\n",
       "<table border=\"1\" class=\"dataframe\">\n",
       "  <thead>\n",
       "    <tr style=\"text-align: right;\">\n",
       "      <th></th>\n",
       "      <th>genres</th>\n",
       "      <th>release_date</th>\n",
       "      <th>price</th>\n",
       "      <th>developer</th>\n",
       "      <th>user_id</th>\n",
       "      <th>playtime_forever</th>\n",
       "    </tr>\n",
       "  </thead>\n",
       "  <tbody>\n",
       "    <tr>\n",
       "      <th>194199</th>\n",
       "      <td>[Action, Adventure, Indie]</td>\n",
       "      <td>2010</td>\n",
       "      <td>19.99</td>\n",
       "      <td>Frictional Games</td>\n",
       "      <td>Phatlipz</td>\n",
       "      <td>0.0</td>\n",
       "    </tr>\n",
       "  </tbody>\n",
       "</table>\n",
       "</div>"
      ],
      "text/plain": [
       "                            genres  release_date  price         developer  \\\n",
       "194199  [Action, Adventure, Indie]          2010  19.99  Frictional Games   \n",
       "\n",
       "         user_id  playtime_forever  \n",
       "194199  Phatlipz               0.0  "
      ]
     },
     "execution_count": 41,
     "metadata": {},
     "output_type": "execute_result"
    }
   ],
   "source": [
    "game_item.sample()"
   ]
  },
  {
   "cell_type": "code",
   "execution_count": 42,
   "metadata": {},
   "outputs": [],
   "source": [
    "reviews_items = pd.merge(reviews,items[['item_id','game_title']].drop_duplicates(),on='item_id')\n",
    "reviews_items.dropna(inplace=True)"
   ]
  },
  {
   "cell_type": "code",
   "execution_count": 43,
   "metadata": {},
   "outputs": [],
   "source": [
    "all_dfs = pd.merge(reviews_items, games[['game_title','developer','id','url','price']].drop_duplicates(), on='game_title')\n",
    "all_dfs.dropna(inplace=True)"
   ]
  },
  {
   "cell_type": "code",
   "execution_count": 44,
   "metadata": {},
   "outputs": [
    {
     "data": {
      "text/html": [
       "<div>\n",
       "<style scoped>\n",
       "    .dataframe tbody tr th:only-of-type {\n",
       "        vertical-align: middle;\n",
       "    }\n",
       "\n",
       "    .dataframe tbody tr th {\n",
       "        vertical-align: top;\n",
       "    }\n",
       "\n",
       "    .dataframe thead th {\n",
       "        text-align: right;\n",
       "    }\n",
       "</style>\n",
       "<table border=\"1\" class=\"dataframe\">\n",
       "  <thead>\n",
       "    <tr style=\"text-align: right;\">\n",
       "      <th></th>\n",
       "      <th>user_id</th>\n",
       "      <th>user_url</th>\n",
       "      <th>posted</th>\n",
       "      <th>item_id</th>\n",
       "      <th>recommend</th>\n",
       "      <th>review</th>\n",
       "      <th>sentiment</th>\n",
       "      <th>game_title</th>\n",
       "      <th>developer</th>\n",
       "      <th>id</th>\n",
       "      <th>url</th>\n",
       "      <th>price</th>\n",
       "    </tr>\n",
       "  </thead>\n",
       "  <tbody>\n",
       "    <tr>\n",
       "      <th>11590</th>\n",
       "      <td>76561198057950387</td>\n",
       "      <td>http://steamcommunity.com/profiles/76561198057...</td>\n",
       "      <td>2015-10-17</td>\n",
       "      <td>377160</td>\n",
       "      <td>True</td>\n",
       "      <td>Fallout 4 is a mixed bag. When I first heard a...</td>\n",
       "      <td>0</td>\n",
       "      <td>Fallout 4</td>\n",
       "      <td>Bethesda Game Studios</td>\n",
       "      <td>377160</td>\n",
       "      <td>http://store.steampowered.com/app/377160/Fallo...</td>\n",
       "      <td>29.99</td>\n",
       "    </tr>\n",
       "  </tbody>\n",
       "</table>\n",
       "</div>"
      ],
      "text/plain": [
       "                 user_id                                           user_url  \\\n",
       "11590  76561198057950387  http://steamcommunity.com/profiles/76561198057...   \n",
       "\n",
       "           posted item_id recommend  \\\n",
       "11590  2015-10-17  377160      True   \n",
       "\n",
       "                                                  review  sentiment  \\\n",
       "11590  Fallout 4 is a mixed bag. When I first heard a...          0   \n",
       "\n",
       "      game_title              developer      id  \\\n",
       "11590  Fallout 4  Bethesda Game Studios  377160   \n",
       "\n",
       "                                                     url  price  \n",
       "11590  http://store.steampowered.com/app/377160/Fallo...  29.99  "
      ]
     },
     "execution_count": 44,
     "metadata": {},
     "output_type": "execute_result"
    }
   ],
   "source": [
    "all_dfs.sample()\n"
   ]
  },
  {
   "cell_type": "code",
   "execution_count": 47,
   "metadata": {},
   "outputs": [],
   "source": [
    "game_item[:len(game_item)//2].to_parquet('./clean_datasets/game_items.parquet')\n",
    "all_dfs.to_parquet('./clean_datasets/all_dfs.parquet')"
   ]
  },
  {
   "cell_type": "code",
   "execution_count": 85,
   "metadata": {},
   "outputs": [],
   "source": [
    "df_reviews = pd.read_parquet(\"reviews_eda.parquet\")\n",
    "df_items = pd.read_parquet(\"items_eda.parquet\")\n",
    "df_games = pd.read_parquet(\"games_eda.parquet\")"
   ]
  },
  {
   "cell_type": "code",
   "execution_count": 86,
   "metadata": {},
   "outputs": [],
   "source": [
    "df_aux = df_games[[\"item_id\",\"genres\",\"year\"]]\n",
    "df_UserForGenre = pd.merge(df_items,df_aux, on = \"item_id\")\n",
    "df_UserForGenre =df_UserForGenre[[\"user_id\",\"genres\",\"year\",\"playtime_forever\"]]\n",
    "def eliminar_outliers_iqr(df, columna):\n",
    "    # Calcular el rango intercuartílico (IQR)\n",
    "    Q1 = df[columna].quantile(0.25)\n",
    "    Q3 = df[columna].quantile(0.75)\n",
    "    IQR = Q3 - Q1\n",
    "\n",
    "    # Definir los límites superior e inferior para identificar outliers\n",
    "    limite_inferior = Q1 - 1.5 * IQR\n",
    "    limite_superior = Q3 + 1.5 * IQR\n",
    "\n",
    "    # Filtrar el DataFrame para mantener solo los valores dentro de los límites\n",
    "    df_filtrado = df[(df[columna] >= limite_inferior) & (df[columna] <= limite_superior)]\n",
    "\n",
    "    return df_filtrado\n",
    "\n",
    "# Ejemplo de uso\n",
    "# Supongamos que 'df' es tu DataFrame y 'valor' es la columna que contiene los datos\n",
    "df_UserForGenre = eliminar_outliers_iqr(df_UserForGenre, 'playtime_forever')\n",
    "df_UserForGenre.to_parquet(r'df_UserForGenre.parquet',index=False)\n"
   ]
  },
  {
   "cell_type": "code",
   "execution_count": 91,
   "metadata": {},
   "outputs": [
    {
     "data": {
      "text/plain": [
       "{'Usuario con más horas jugadas para Género actIon:': 'REBAS_AS_F-T',\n",
       " 'Horas jugadas': [{'Año': 1998, 'Horas': 2},\n",
       "  {'Año': 1999, 'Horas': 225},\n",
       "  {'Año': 2001, 'Horas': 11},\n",
       "  {'Año': 2002, 'Horas': 1},\n",
       "  {'Año': 2004, 'Horas': 225},\n",
       "  {'Año': 2005, 'Horas': 1117},\n",
       "  {'Año': 2006, 'Horas': 138},\n",
       "  {'Año': 2007, 'Horas': 684},\n",
       "  {'Año': 2008, 'Horas': 1871},\n",
       "  {'Año': 2009, 'Horas': 4065},\n",
       "  {'Año': 2010, 'Horas': 5720},\n",
       "  {'Año': 2011, 'Horas': 12612},\n",
       "  {'Año': 2012, 'Horas': 19514},\n",
       "  {'Año': 2013, 'Horas': 20546},\n",
       "  {'Año': 2014, 'Horas': 48114},\n",
       "  {'Año': 2015, 'Horas': 57145},\n",
       "  {'Año': 2016, 'Horas': 38991},\n",
       "  {'Año': 2017, 'Horas': 3716}]}"
      ]
     },
     "execution_count": 91,
     "metadata": {},
     "output_type": "execute_result"
    }
   ],
   "source": [
    "def userforgenre(genero: str):\n",
    "    # Filtrar el DataFrame para el género especificado\n",
    "    filtro_genero = df_UserForGenre['genres'].str.contains(genero, case=False, na=False)\n",
    "    df_filtrado = df_UserForGenre[filtro_genero]\n",
    "\n",
    "    # Agrupar por 'user_id' y 'year', sumar las horas jugadas\n",
    "    df_agrupado = df_filtrado.groupby(['user_id', 'year'])['playtime_forever'].sum().reset_index()\n",
    "\n",
    "    # Encontrar el usuario con la máxima suma de horas jugadas\n",
    "    idx_max_playtime = df_agrupado['playtime_forever'].idxmax()\n",
    "    usuario_max_playtime = df_agrupado.loc[idx_max_playtime, 'user_id']\n",
    "\n",
    "    # Filtrar el DataFrame para el usuario con máxima suma de horas jugadas\n",
    "    df_usuario = df_agrupado[df_agrupado['user_id'] == usuario_max_playtime]\n",
    "\n",
    "    # Crear el formato \"Horas jugadas\"\n",
    "    resultado_final = [{'Año': int(row['year']), 'Horas': int(row['playtime_forever'])} for _, row in df_usuario.iterrows()]\n",
    "    \n",
    "    return {\"Usuario con más horas jugadas para Género {}:\".format(genero): usuario_max_playtime, \"Horas jugadas\": resultado_final}\n",
    "\n",
    "# Ejemplo de uso\n",
    "userforgenre('actIon')"
   ]
  },
  {
   "cell_type": "code",
   "execution_count": 50,
   "metadata": {},
   "outputs": [],
   "source": [
    "def user_data(user_id:str):\n",
    "  '''\n",
    "  Devuelve la cantidad de dinero gastado por el usuario mas el \n",
    "  porcentaje de recomendacion y la cantidad de items\n",
    "  '''\n",
    "  df = all_dfs[all_dfs['user_id']==user_id]\n",
    "  money = df['price'].sum()\n",
    "  items = len(df)\n",
    "\n",
    "  user_reviews = df[df['user_id']==user_id]\n",
    "  recommendation = (user_reviews['recommend'].sum()/len(user_reviews))*100\n",
    "\n",
    "  res = {\n",
    "    \"Usuario X\": user_id,\n",
    "    \"Dinero gastado\": round(money,2),\n",
    "    \"% de recomendacion\": f\"{round(recommendation,2)}%\",\n",
    "    \"Cantidad de items\": items\n",
    "  }\n",
    "\n",
    "  return  res"
   ]
  },
  {
   "cell_type": "code",
   "execution_count": 51,
   "metadata": {},
   "outputs": [
    {
     "data": {
      "text/plain": [
       "{'Usuario X': 'Shredderman962',\n",
       " 'Dinero gastado': 109.92,\n",
       " '% de recomendacion': '75.0%',\n",
       " 'Cantidad de items': 8}"
      ]
     },
     "execution_count": 51,
     "metadata": {},
     "output_type": "execute_result"
    }
   ],
   "source": [
    "user_data('Shredderman962')\n"
   ]
  },
  {
   "cell_type": "code",
   "execution_count": 81,
   "metadata": {},
   "outputs": [
    {
     "data": {
      "text/html": [
       "<div>\n",
       "<style scoped>\n",
       "    .dataframe tbody tr th:only-of-type {\n",
       "        vertical-align: middle;\n",
       "    }\n",
       "\n",
       "    .dataframe tbody tr th {\n",
       "        vertical-align: top;\n",
       "    }\n",
       "\n",
       "    .dataframe thead th {\n",
       "        text-align: right;\n",
       "    }\n",
       "</style>\n",
       "<table border=\"1\" class=\"dataframe\">\n",
       "  <thead>\n",
       "    <tr style=\"text-align: right;\">\n",
       "      <th></th>\n",
       "      <th>genres</th>\n",
       "      <th>game_title</th>\n",
       "      <th>url</th>\n",
       "      <th>release_date</th>\n",
       "      <th>price</th>\n",
       "      <th>id</th>\n",
       "      <th>developer</th>\n",
       "    </tr>\n",
       "  </thead>\n",
       "  <tbody>\n",
       "    <tr>\n",
       "      <th>88310</th>\n",
       "      <td>[Action, Casual, Indie, Simulation, Strategy]</td>\n",
       "      <td>Lost Summoner Kitty</td>\n",
       "      <td>http://store.steampowered.com/app/761140/Lost_...</td>\n",
       "      <td>2018-01-04</td>\n",
       "      <td>4.99</td>\n",
       "      <td>761140</td>\n",
       "      <td>Kotoshiro</td>\n",
       "    </tr>\n",
       "    <tr>\n",
       "      <th>88311</th>\n",
       "      <td>[Free to Play, Indie, RPG, Strategy]</td>\n",
       "      <td>Ironbound</td>\n",
       "      <td>http://store.steampowered.com/app/643980/Ironb...</td>\n",
       "      <td>2018-01-04</td>\n",
       "      <td>0.00</td>\n",
       "      <td>643980</td>\n",
       "      <td>Secret Level SRL</td>\n",
       "    </tr>\n",
       "    <tr>\n",
       "      <th>88312</th>\n",
       "      <td>[Casual, Free to Play, Indie, Simulation, Sports]</td>\n",
       "      <td>Real Pool 3D - Poolians</td>\n",
       "      <td>http://store.steampowered.com/app/670290/Real_...</td>\n",
       "      <td>2017-07-24</td>\n",
       "      <td>0.00</td>\n",
       "      <td>670290</td>\n",
       "      <td>Poolians.com</td>\n",
       "    </tr>\n",
       "    <tr>\n",
       "      <th>88313</th>\n",
       "      <td>[Action, Adventure, Casual]</td>\n",
       "      <td>弹炸人2222</td>\n",
       "      <td>http://store.steampowered.com/app/767400/2222/</td>\n",
       "      <td>2017-12-07</td>\n",
       "      <td>0.99</td>\n",
       "      <td>767400</td>\n",
       "      <td>彼岸领域</td>\n",
       "    </tr>\n",
       "    <tr>\n",
       "      <th>88315</th>\n",
       "      <td>[Action, Adventure, Simulation]</td>\n",
       "      <td>Battle Royale Trainer</td>\n",
       "      <td>http://store.steampowered.com/app/772540/Battl...</td>\n",
       "      <td>2018-01-04</td>\n",
       "      <td>3.99</td>\n",
       "      <td>772540</td>\n",
       "      <td>Trickjump Games Ltd</td>\n",
       "    </tr>\n",
       "  </tbody>\n",
       "</table>\n",
       "</div>"
      ],
      "text/plain": [
       "                                                  genres  \\\n",
       "88310      [Action, Casual, Indie, Simulation, Strategy]   \n",
       "88311               [Free to Play, Indie, RPG, Strategy]   \n",
       "88312  [Casual, Free to Play, Indie, Simulation, Sports]   \n",
       "88313                        [Action, Adventure, Casual]   \n",
       "88315                    [Action, Adventure, Simulation]   \n",
       "\n",
       "                    game_title  \\\n",
       "88310      Lost Summoner Kitty   \n",
       "88311                Ironbound   \n",
       "88312  Real Pool 3D - Poolians   \n",
       "88313                  弹炸人2222   \n",
       "88315    Battle Royale Trainer   \n",
       "\n",
       "                                                     url release_date  price  \\\n",
       "88310  http://store.steampowered.com/app/761140/Lost_...   2018-01-04   4.99   \n",
       "88311  http://store.steampowered.com/app/643980/Ironb...   2018-01-04   0.00   \n",
       "88312  http://store.steampowered.com/app/670290/Real_...   2017-07-24   0.00   \n",
       "88313     http://store.steampowered.com/app/767400/2222/   2017-12-07   0.99   \n",
       "88315  http://store.steampowered.com/app/772540/Battl...   2018-01-04   3.99   \n",
       "\n",
       "           id            developer  \n",
       "88310  761140            Kotoshiro  \n",
       "88311  643980     Secret Level SRL  \n",
       "88312  670290         Poolians.com  \n",
       "88313  767400                 彼岸领域  \n",
       "88315  772540  Trickjump Games Ltd  "
      ]
     },
     "execution_count": 81,
     "metadata": {},
     "output_type": "execute_result"
    }
   ],
   "source": [
    "games.head()"
   ]
  },
  {
   "cell_type": "code",
   "execution_count": 55,
   "metadata": {},
   "outputs": [],
   "source": [
    "def best_developer_year(year:int):\n",
    "  '''\n",
    "  Devuelve el top 3 de desarrolladores con juegos mas recomendados por usuarios para el año dado.\n",
    "  '''\n",
    "  df = all_dfs[pd.to_datetime(all_dfs['posted']).dt.year == int(year)].copy()\n",
    "  df['posted'] = pd.to_datetime(df['posted']).dt.year\n",
    "  recommendation = df.groupby('developer')['recommend'].sum().sort_values(ascending=False)[:3]\n",
    "  \n",
    "  res = {\n",
    "    \"Año\":year,\n",
    "    \"Res\":[\n",
    "      {\"Puesto 1\":recommendation.index[0]},\n",
    "      {\"Puesto 2\":recommendation.index[1]},\n",
    "      {\"Puesto 3\":recommendation.index[2]}\n",
    "    ]\n",
    "  }\n",
    "  return res"
   ]
  },
  {
   "cell_type": "code",
   "execution_count": 56,
   "metadata": {},
   "outputs": [
    {
     "data": {
      "text/plain": [
       "{'Año': 2015,\n",
       " 'Res': [{'Puesto 1': 'Valve'},\n",
       "  {'Puesto 2': 'Facepunch Studios'},\n",
       "  {'Puesto 3': 'Smartly Dressed Games'}]}"
      ]
     },
     "execution_count": 56,
     "metadata": {},
     "output_type": "execute_result"
    }
   ],
   "source": [
    "best_developer_year(2015)\n"
   ]
  },
  {
   "cell_type": "code",
   "execution_count": 57,
   "metadata": {},
   "outputs": [],
   "source": [
    "def developer_reviews_analysis(developer:str):\n",
    "  '''\n",
    "  Devuelve un diccionario con el nombre del desarrollador como llave y una lista con la cantidad total de registros de reseñas de usuarios que se encuentren categorizados con un analisis de sentimiento como valor positivo o negativo.\n",
    "  '''\n",
    "  df = all_dfs[all_dfs['developer']==developer].copy()\n",
    "  sentiments = df['sentiment'].value_counts()\n",
    "  res = {\n",
    "    developer:{\n",
    "      \"Negative\":sentiments.values[2], \n",
    "      \"Positive\":sentiments.values[0]\n",
    "    }\n",
    "  }\n",
    "  return res"
   ]
  },
  {
   "cell_type": "code",
   "execution_count": 58,
   "metadata": {},
   "outputs": [
    {
     "data": {
      "text/plain": [
       "{'Re-Logic': {'Negative': 90, 'Positive': 352}}"
      ]
     },
     "execution_count": 58,
     "metadata": {},
     "output_type": "execute_result"
    }
   ],
   "source": [
    "developer_reviews_analysis('Re-Logic')"
   ]
  },
  {
   "cell_type": "code",
   "execution_count": 105,
   "metadata": {},
   "outputs": [],
   "source": [
    "import matplotlib.pyplot as plt"
   ]
  },
  {
   "cell_type": "code",
   "execution_count": 106,
   "metadata": {},
   "outputs": [
    {
     "data": {
      "text/html": [
       "<div>\n",
       "<style scoped>\n",
       "    .dataframe tbody tr th:only-of-type {\n",
       "        vertical-align: middle;\n",
       "    }\n",
       "\n",
       "    .dataframe tbody tr th {\n",
       "        vertical-align: top;\n",
       "    }\n",
       "\n",
       "    .dataframe thead th {\n",
       "        text-align: right;\n",
       "    }\n",
       "</style>\n",
       "<table border=\"1\" class=\"dataframe\">\n",
       "  <thead>\n",
       "    <tr style=\"text-align: right;\">\n",
       "      <th></th>\n",
       "      <th>genres</th>\n",
       "      <th>game_title</th>\n",
       "      <th>url</th>\n",
       "      <th>release_date</th>\n",
       "      <th>price</th>\n",
       "      <th>id</th>\n",
       "      <th>developer</th>\n",
       "    </tr>\n",
       "  </thead>\n",
       "  <tbody>\n",
       "    <tr>\n",
       "      <th>94247</th>\n",
       "      <td>[Strategy]</td>\n",
       "      <td>Hyperdevotion Noire: Histoire's Value Set</td>\n",
       "      <td>http://store.steampowered.com/app/426929/Hyper...</td>\n",
       "      <td>2016-04-26</td>\n",
       "      <td>0.99</td>\n",
       "      <td>426929</td>\n",
       "      <td>Idea Factory,Compile Heart,Sting</td>\n",
       "    </tr>\n",
       "  </tbody>\n",
       "</table>\n",
       "</div>"
      ],
      "text/plain": [
       "           genres                                 game_title  \\\n",
       "94247  [Strategy]  Hyperdevotion Noire: Histoire's Value Set   \n",
       "\n",
       "                                                     url release_date  price  \\\n",
       "94247  http://store.steampowered.com/app/426929/Hyper...   2016-04-26   0.99   \n",
       "\n",
       "           id                         developer  \n",
       "94247  426929  Idea Factory,Compile Heart,Sting  "
      ]
     },
     "execution_count": 106,
     "metadata": {},
     "output_type": "execute_result"
    }
   ],
   "source": [
    "# Miramos nuestra tabla a utilizar\n",
    "games.sample()"
   ]
  },
  {
   "cell_type": "code",
   "execution_count": 112,
   "metadata": {},
   "outputs": [
    {
     "data": {
      "text/html": [
       "<div>\n",
       "<style scoped>\n",
       "    .dataframe tbody tr th:only-of-type {\n",
       "        vertical-align: middle;\n",
       "    }\n",
       "\n",
       "    .dataframe tbody tr th {\n",
       "        vertical-align: top;\n",
       "    }\n",
       "\n",
       "    .dataframe thead th {\n",
       "        text-align: right;\n",
       "    }\n",
       "</style>\n",
       "<table border=\"1\" class=\"dataframe\">\n",
       "  <thead>\n",
       "    <tr style=\"text-align: right;\">\n",
       "      <th></th>\n",
       "      <th>genres</th>\n",
       "      <th>id</th>\n",
       "    </tr>\n",
       "  </thead>\n",
       "  <tbody>\n",
       "    <tr>\n",
       "      <th>685</th>\n",
       "      <td>(Indie,)</td>\n",
       "      <td>545</td>\n",
       "    </tr>\n",
       "    <tr>\n",
       "      <th>181</th>\n",
       "      <td>(Action, Casual, Indie)</td>\n",
       "      <td>600</td>\n",
       "    </tr>\n",
       "    <tr>\n",
       "      <th>1</th>\n",
       "      <td>(Action, Adventure)</td>\n",
       "      <td>614</td>\n",
       "    </tr>\n",
       "    <tr>\n",
       "      <th>565</th>\n",
       "      <td>(Casual, Indie)</td>\n",
       "      <td>825</td>\n",
       "    </tr>\n",
       "    <tr>\n",
       "      <th>454</th>\n",
       "      <td>(Adventure, Indie)</td>\n",
       "      <td>843</td>\n",
       "    </tr>\n",
       "    <tr>\n",
       "      <th>92</th>\n",
       "      <td>(Action, Adventure, Indie)</td>\n",
       "      <td>924</td>\n",
       "    </tr>\n",
       "    <tr>\n",
       "      <th>785</th>\n",
       "      <td>(Strategy,)</td>\n",
       "      <td>930</td>\n",
       "    </tr>\n",
       "    <tr>\n",
       "      <th>772</th>\n",
       "      <td>(Simulation,)</td>\n",
       "      <td>1265</td>\n",
       "    </tr>\n",
       "    <tr>\n",
       "      <th>280</th>\n",
       "      <td>(Action, Indie)</td>\n",
       "      <td>1394</td>\n",
       "    </tr>\n",
       "    <tr>\n",
       "      <th>0</th>\n",
       "      <td>(Action,)</td>\n",
       "      <td>1572</td>\n",
       "    </tr>\n",
       "  </tbody>\n",
       "</table>\n",
       "</div>"
      ],
      "text/plain": [
       "                         genres    id\n",
       "685                    (Indie,)   545\n",
       "181     (Action, Casual, Indie)   600\n",
       "1           (Action, Adventure)   614\n",
       "565             (Casual, Indie)   825\n",
       "454          (Adventure, Indie)   843\n",
       "92   (Action, Adventure, Indie)   924\n",
       "785                 (Strategy,)   930\n",
       "772               (Simulation,)  1265\n",
       "280             (Action, Indie)  1394\n",
       "0                     (Action,)  1572"
      ]
     },
     "execution_count": 112,
     "metadata": {},
     "output_type": "execute_result"
    }
   ],
   "source": [
    "# Agrupamos y ordenamos utilizando la columna genero y id\n",
    "top_genre = games.groupby('genres').count().reset_index()[['genres','id']].sort_values(by='id',ascending=True)[-10:]\n",
    "top_genre"
   ]
  },
  {
   "cell_type": "code",
   "execution_count": 117,
   "metadata": {},
   "outputs": [
    {
     "data": {
      "image/png": "[encoded data removed]",
      "text/plain": [
       "<Figure size 1000x600 with 1 Axes>"
      ]
     },
     "metadata": {},
     "output_type": "display_data"
    }
   ],
   "source": [
    "import matplotlib.pyplot as plt\n",
    "\n",
    "# Convertir listas en tuplas en la columna 'genres'\n",
    "games['genres'] = games['genres'].apply(tuple)\n",
    "\n",
    "# Agrupar y contar\n",
    "top_genre = games.groupby('genres').count().reset_index()[['genres', 'game_title']].sort_values(by='game_title', ascending=False)[:10]\n",
    "\n",
    "# Configurar la gráfica\n",
    "plt.figure(figsize=(10, 6))  # Ajusta el tamaño de la figura según tus preferencias\n",
    "\n",
    "# Deshacerse de las tuplas en 'genres' seleccionando el primer elemento\n",
    "top_genre['genres'] = top_genre['genres'].apply(lambda x: x[0] if isinstance(x, tuple) else x)\n",
    "\n",
    "plt.barh(top_genre['genres'], top_genre['game_title'], color='#FF5733')  # Usar 'game_title' en lugar de 'id'\n",
    "plt.xlabel('Cantidad')\n",
    "plt.ylabel('Género')\n",
    "plt.title('Top 10 Géneros')\n",
    "\n",
    "# Ajustar detalles\n",
    "plt.subplots_adjust(left=0.2, right=0.8, top=0.8, bottom=0.2)\n",
    "plt.gca().set_facecolor('whitesmoke') \n",
    "\n",
    "# Mostrar la gráfica\n",
    "plt.show()\n"
   ]
  },
  {
   "cell_type": "code",
   "execution_count": 118,
   "metadata": {},
   "outputs": [
    {
     "data": {
      "text/plain": [
       "game_title\n",
       "Portal 2                             292\n",
       "DayZ                                 438\n",
       "Borderlands 2                        443\n",
       "Warframe                             451\n",
       "Rust                                 565\n",
       "Left 4 Dead 2                        578\n",
       "Terraria                             581\n",
       "Unturned                             755\n",
       "Garry's Mod                         1343\n",
       "Counter-Strike: Global Offensive    2760\n",
       "Name: recommend, dtype: object"
      ]
     },
     "execution_count": 118,
     "metadata": {},
     "output_type": "execute_result"
    }
   ],
   "source": [
    "# Se agrupan, ordenan y seleccionan los datos relevantes\n",
    "top_games = all_dfs.groupby('game_title')['recommend'].sum().sort_values(ascending=True)[-10:]\n",
    "top_games"
   ]
  },
  {
   "cell_type": "code",
   "execution_count": 119,
   "metadata": {},
   "outputs": [
    {
     "data": {
      "image/png": "[encoded data removed]",
      "text/plain": [
       "<Figure size 640x480 with 1 Axes>"
      ]
     },
     "metadata": {},
     "output_type": "display_data"
    }
   ],
   "source": [
    "# Se printean porcentajes\n",
    "fig, ax = plt.subplots()\n",
    "ax.pie(top_games[-5:],labels=top_games.index[-5:],autopct='%1.1f%%')\n",
    "plt.title('Mejores juegos dentro de la plataforma')\n",
    "plt.show()"
   ]
  },
  {
   "cell_type": "code",
   "execution_count": 120,
   "metadata": {},
   "outputs": [],
   "source": [
    "# Se hace un ajuste del dataframe original para evitar datos extra que no necesitamos\n",
    "s_through_years = all_dfs[['game_title','sentiment','posted']].drop_duplicates().copy()\n",
    "s_through_years['posted'] = pd.to_datetime(s_through_years['posted']).dt.year"
   ]
  },
  {
   "cell_type": "code",
   "execution_count": 121,
   "metadata": {},
   "outputs": [],
   "source": [
    "# El respectivo binning de los datos\n",
    "group = s_through_years.groupby('posted')['sentiment'].value_counts()\n",
    "df_group = pd.DataFrame(group).reset_index()"
   ]
  },
  {
   "cell_type": "code",
   "execution_count": 122,
   "metadata": {},
   "outputs": [
    {
     "data": {
      "text/html": [
       "<div>\n",
       "<style scoped>\n",
       "    .dataframe tbody tr th:only-of-type {\n",
       "        vertical-align: middle;\n",
       "    }\n",
       "\n",
       "    .dataframe tbody tr th {\n",
       "        vertical-align: top;\n",
       "    }\n",
       "\n",
       "    .dataframe thead th {\n",
       "        text-align: right;\n",
       "    }\n",
       "</style>\n",
       "<table border=\"1\" class=\"dataframe\">\n",
       "  <thead>\n",
       "    <tr style=\"text-align: right;\">\n",
       "      <th></th>\n",
       "      <th>posted</th>\n",
       "      <th>sentiment</th>\n",
       "      <th>count</th>\n",
       "    </tr>\n",
       "  </thead>\n",
       "  <tbody>\n",
       "    <tr>\n",
       "      <th>0</th>\n",
       "      <td>2010</td>\n",
       "      <td>2</td>\n",
       "      <td>29</td>\n",
       "    </tr>\n",
       "    <tr>\n",
       "      <th>1</th>\n",
       "      <td>2010</td>\n",
       "      <td>1</td>\n",
       "      <td>17</td>\n",
       "    </tr>\n",
       "    <tr>\n",
       "      <th>2</th>\n",
       "      <td>2010</td>\n",
       "      <td>0</td>\n",
       "      <td>4</td>\n",
       "    </tr>\n",
       "    <tr>\n",
       "      <th>3</th>\n",
       "      <td>2011</td>\n",
       "      <td>2</td>\n",
       "      <td>261</td>\n",
       "    </tr>\n",
       "    <tr>\n",
       "      <th>4</th>\n",
       "      <td>2011</td>\n",
       "      <td>1</td>\n",
       "      <td>59</td>\n",
       "    </tr>\n",
       "    <tr>\n",
       "      <th>5</th>\n",
       "      <td>2011</td>\n",
       "      <td>0</td>\n",
       "      <td>33</td>\n",
       "    </tr>\n",
       "    <tr>\n",
       "      <th>6</th>\n",
       "      <td>2012</td>\n",
       "      <td>2</td>\n",
       "      <td>501</td>\n",
       "    </tr>\n",
       "    <tr>\n",
       "      <th>7</th>\n",
       "      <td>2012</td>\n",
       "      <td>1</td>\n",
       "      <td>184</td>\n",
       "    </tr>\n",
       "    <tr>\n",
       "      <th>8</th>\n",
       "      <td>2012</td>\n",
       "      <td>0</td>\n",
       "      <td>108</td>\n",
       "    </tr>\n",
       "    <tr>\n",
       "      <th>9</th>\n",
       "      <td>2013</td>\n",
       "      <td>2</td>\n",
       "      <td>2178</td>\n",
       "    </tr>\n",
       "    <tr>\n",
       "      <th>10</th>\n",
       "      <td>2013</td>\n",
       "      <td>1</td>\n",
       "      <td>771</td>\n",
       "    </tr>\n",
       "    <tr>\n",
       "      <th>11</th>\n",
       "      <td>2013</td>\n",
       "      <td>0</td>\n",
       "      <td>347</td>\n",
       "    </tr>\n",
       "    <tr>\n",
       "      <th>12</th>\n",
       "      <td>2014</td>\n",
       "      <td>2</td>\n",
       "      <td>6623</td>\n",
       "    </tr>\n",
       "    <tr>\n",
       "      <th>13</th>\n",
       "      <td>2014</td>\n",
       "      <td>1</td>\n",
       "      <td>2698</td>\n",
       "    </tr>\n",
       "    <tr>\n",
       "      <th>14</th>\n",
       "      <td>2014</td>\n",
       "      <td>0</td>\n",
       "      <td>1685</td>\n",
       "    </tr>\n",
       "    <tr>\n",
       "      <th>15</th>\n",
       "      <td>2015</td>\n",
       "      <td>2</td>\n",
       "      <td>5834</td>\n",
       "    </tr>\n",
       "    <tr>\n",
       "      <th>16</th>\n",
       "      <td>2015</td>\n",
       "      <td>1</td>\n",
       "      <td>2732</td>\n",
       "    </tr>\n",
       "    <tr>\n",
       "      <th>17</th>\n",
       "      <td>2015</td>\n",
       "      <td>0</td>\n",
       "      <td>1831</td>\n",
       "    </tr>\n",
       "  </tbody>\n",
       "</table>\n",
       "</div>"
      ],
      "text/plain": [
       "    posted  sentiment  count\n",
       "0     2010          2     29\n",
       "1     2010          1     17\n",
       "2     2010          0      4\n",
       "3     2011          2    261\n",
       "4     2011          1     59\n",
       "5     2011          0     33\n",
       "6     2012          2    501\n",
       "7     2012          1    184\n",
       "8     2012          0    108\n",
       "9     2013          2   2178\n",
       "10    2013          1    771\n",
       "11    2013          0    347\n",
       "12    2014          2   6623\n",
       "13    2014          1   2698\n",
       "14    2014          0   1685\n",
       "15    2015          2   5834\n",
       "16    2015          1   2732\n",
       "17    2015          0   1831"
      ]
     },
     "execution_count": 122,
     "metadata": {},
     "output_type": "execute_result"
    }
   ],
   "source": [
    "#Datos agrupados\n",
    "df_group"
   ]
  },
  {
   "cell_type": "code",
   "execution_count": 123,
   "metadata": {},
   "outputs": [],
   "source": [
    "# Dividimos nuestro df y hacemos un filtrado para dividir los sentimientos en distintas tablas\n",
    "good = df_group[df_group['sentiment']==2]\n",
    "neutral = df_group[df_group['sentiment']==1]\n",
    "bad = df_group[df_group['sentiment']==0]"
   ]
  },
  {
   "cell_type": "code",
   "execution_count": 124,
   "metadata": {},
   "outputs": [
    {
     "data": {
      "image/png": "[encoded data removed]",
      "text/plain": [
       "<Figure size 640x480 with 1 Axes>"
      ]
     },
     "metadata": {},
     "output_type": "display_data"
    }
   ],
   "source": [
    "# Configuramos las pendientes para una buena ilustración\n",
    "plt.plot(good['posted'],good['count'], linestyle='--',marker='*', label='Good',color='g')\n",
    "plt.plot(neutral['posted'],neutral['count'],linestyle='-.',marker='o',label='Neutral',color='y')\n",
    "plt.plot(bad['posted'],bad['count'],linestyle=':',marker='^',label='Bad', color='r')\n",
    "# Configuramos datos dentro de la gráfica\n",
    "plt.title('Relacion sentimiento-año')\n",
    "plt.xlabel('Año')\n",
    "plt.ylabel('Cantidad personas con ese sentimiento')\n",
    "plt.legend()\n",
    "# Printeamos\n",
    "plt.show()"
   ]
  },
  {
   "cell_type": "code",
   "execution_count": null,
   "metadata": {},
   "outputs": [],
   "source": [
    "'''Como podemos ver realmente no hay mucha cambio entre los datos durante el transcurso del tiempo aparte de su aumento de volumen a \n",
    "través de los años que a su vez representa el aumento en el volumen usuarios que entran a la plataforma y de ese pequeño decrecimiento \n",
    "entre el 2014 y el 2015'''"
   ]
  },
  {
   "cell_type": "code",
   "execution_count": null,
   "metadata": {},
   "outputs": [],
   "source": [
    "#Cual es el rango entre los precios de los juegos dentro de la plataforma?\n",
    "#Queremos saber si todos los precios de los juegos realmente respetan un margen a pesar de la libertad que se le da a los desarrolladores para asignarles un valor."
   ]
  },
  {
   "cell_type": "code",
   "execution_count": 125,
   "metadata": {},
   "outputs": [
    {
     "data": {
      "text/html": [
       "<div>\n",
       "<style scoped>\n",
       "    .dataframe tbody tr th:only-of-type {\n",
       "        vertical-align: middle;\n",
       "    }\n",
       "\n",
       "    .dataframe tbody tr th {\n",
       "        vertical-align: top;\n",
       "    }\n",
       "\n",
       "    .dataframe thead th {\n",
       "        text-align: right;\n",
       "    }\n",
       "</style>\n",
       "<table border=\"1\" class=\"dataframe\">\n",
       "  <thead>\n",
       "    <tr style=\"text-align: right;\">\n",
       "      <th></th>\n",
       "      <th>price</th>\n",
       "    </tr>\n",
       "  </thead>\n",
       "  <tbody>\n",
       "    <tr>\n",
       "      <th>count</th>\n",
       "      <td>1936.000000</td>\n",
       "    </tr>\n",
       "    <tr>\n",
       "      <th>mean</th>\n",
       "      <td>11.619509</td>\n",
       "    </tr>\n",
       "    <tr>\n",
       "      <th>std</th>\n",
       "      <td>20.673467</td>\n",
       "    </tr>\n",
       "    <tr>\n",
       "      <th>min</th>\n",
       "      <td>0.000000</td>\n",
       "    </tr>\n",
       "    <tr>\n",
       "      <th>25%</th>\n",
       "      <td>3.990000</td>\n",
       "    </tr>\n",
       "    <tr>\n",
       "      <th>50%</th>\n",
       "      <td>9.990000</td>\n",
       "    </tr>\n",
       "    <tr>\n",
       "      <th>75%</th>\n",
       "      <td>14.990000</td>\n",
       "    </tr>\n",
       "    <tr>\n",
       "      <th>max</th>\n",
       "      <td>771.710000</td>\n",
       "    </tr>\n",
       "  </tbody>\n",
       "</table>\n",
       "</div>"
      ],
      "text/plain": [
       "             price\n",
       "count  1936.000000\n",
       "mean     11.619509\n",
       "std      20.673467\n",
       "min       0.000000\n",
       "25%       3.990000\n",
       "50%       9.990000\n",
       "75%      14.990000\n",
       "max     771.710000"
      ]
     },
     "execution_count": 125,
     "metadata": {},
     "output_type": "execute_result"
    }
   ],
   "source": [
    "# Se eligen los datos que queremos y revisamos su distribución\n",
    "prices = all_dfs[['game_title','price']].drop_duplicates()\n",
    "prices.describe()"
   ]
  },
  {
   "cell_type": "code",
   "execution_count": 126,
   "metadata": {},
   "outputs": [
    {
     "data": {
      "image/png": "[encoded data removed]",
      "text/plain": [
       "<Figure size 640x480 with 1 Axes>"
      ]
     },
     "metadata": {},
     "output_type": "display_data"
    }
   ],
   "source": [
    "# Vista de su distribucion\n",
    "boxplot = plt.boxplot(prices['price'])\n",
    "outliers = boxplot['fliers'][0].get_data()[1]\n",
    "plt.show()"
   ]
  },
  {
   "cell_type": "code",
   "execution_count": 127,
   "metadata": {},
   "outputs": [],
   "source": [
    "# Se consiguen los outliers de la gráfica\n",
    "outliers = pd.Series(outliers).sort_values(ascending=True)"
   ]
  },
  {
   "cell_type": "code",
   "execution_count": 128,
   "metadata": {},
   "outputs": [],
   "source": [
    "# Se omiten los outliers dentro de la columna original\n",
    "prices = prices[prices['price'] < outliers[0]]"
   ]
  },
  {
   "cell_type": "code",
   "execution_count": 129,
   "metadata": {},
   "outputs": [
    {
     "data": {
      "text/html": [
       "<div>\n",
       "<style scoped>\n",
       "    .dataframe tbody tr th:only-of-type {\n",
       "        vertical-align: middle;\n",
       "    }\n",
       "\n",
       "    .dataframe tbody tr th {\n",
       "        vertical-align: top;\n",
       "    }\n",
       "\n",
       "    .dataframe thead th {\n",
       "        text-align: right;\n",
       "    }\n",
       "</style>\n",
       "<table border=\"1\" class=\"dataframe\">\n",
       "  <thead>\n",
       "    <tr style=\"text-align: right;\">\n",
       "      <th></th>\n",
       "      <th>price</th>\n",
       "    </tr>\n",
       "  </thead>\n",
       "  <tbody>\n",
       "    <tr>\n",
       "      <th>count</th>\n",
       "      <td>1873.000000</td>\n",
       "    </tr>\n",
       "    <tr>\n",
       "      <th>mean</th>\n",
       "      <td>9.932931</td>\n",
       "    </tr>\n",
       "    <tr>\n",
       "      <th>std</th>\n",
       "      <td>7.836136</td>\n",
       "    </tr>\n",
       "    <tr>\n",
       "      <th>min</th>\n",
       "      <td>0.000000</td>\n",
       "    </tr>\n",
       "    <tr>\n",
       "      <th>25%</th>\n",
       "      <td>3.990000</td>\n",
       "    </tr>\n",
       "    <tr>\n",
       "      <th>50%</th>\n",
       "      <td>9.990000</td>\n",
       "    </tr>\n",
       "    <tr>\n",
       "      <th>75%</th>\n",
       "      <td>14.990000</td>\n",
       "    </tr>\n",
       "    <tr>\n",
       "      <th>max</th>\n",
       "      <td>34.990000</td>\n",
       "    </tr>\n",
       "  </tbody>\n",
       "</table>\n",
       "</div>"
      ],
      "text/plain": [
       "             price\n",
       "count  1873.000000\n",
       "mean      9.932931\n",
       "std       7.836136\n",
       "min       0.000000\n",
       "25%       3.990000\n",
       "50%       9.990000\n",
       "75%      14.990000\n",
       "max      34.990000"
      ]
     },
     "execution_count": 129,
     "metadata": {},
     "output_type": "execute_result"
    }
   ],
   "source": [
    "prices.describe()"
   ]
  },
  {
   "cell_type": "code",
   "execution_count": 130,
   "metadata": {},
   "outputs": [
    {
     "data": {
      "image/png": "[encoded data removed]",
      "text/plain": [
       "<Figure size 640x480 with 1 Axes>"
      ]
     },
     "metadata": {},
     "output_type": "display_data"
    }
   ],
   "source": [
    "# Vista final\n",
    "plt.boxplot(prices['price'])\n",
    "plt.show()"
   ]
  }
 ],
 "metadata": {
  "kernelspec": {
   "display_name": "Python 3",
   "language": "python",
   "name": "python3"
  },
  "language_info": {
   "codemirror_mode": {
    "name": "ipython",
    "version": 3
   },
   "file_extension": ".py",
   "mimetype": "text/x-python",
   "name": "python",
   "nbconvert_exporter": "python",
   "pygments_lexer": "ipython3",
   "version": "3.11.5"
  }
 },
 "nbformat": 4,
 "nbformat_minor": 2
}
